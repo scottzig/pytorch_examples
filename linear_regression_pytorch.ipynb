{
  "nbformat": 4,
  "nbformat_minor": 0,
  "metadata": {
    "colab": {
      "name": "linear_regression_pytorch.ipynb",
      "provenance": [],
      "authorship_tag": "ABX9TyPFsKjNlnz9pzITQIav0668",
      "include_colab_link": true
    },
    "kernelspec": {
      "name": "python3",
      "display_name": "Python 3"
    }
  },
  "cells": [
    {
      "cell_type": "markdown",
      "metadata": {
        "id": "view-in-github",
        "colab_type": "text"
      },
      "source": [
        "<a href=\"https://colab.research.google.com/github/scottzig/pytorch_examples/blob/main/linear_regression_pytorch.ipynb\" target=\"_parent\"><img src=\"https://colab.research.google.com/assets/colab-badge.svg\" alt=\"Open In Colab\"/></a>"
      ]
    },
    {
      "cell_type": "code",
      "metadata": {
        "colab": {
          "base_uri": "https://localhost:8080/"
        },
        "id": "VBEoSr5RMlWb",
        "outputId": "734d097b-dcd9-4285-ff05-b50f32a920db"
      },
      "source": [
        "!pip3 install torch"
      ],
      "execution_count": null,
      "outputs": [
        {
          "output_type": "stream",
          "text": [
            "Requirement already satisfied: torch in /usr/local/lib/python3.6/dist-packages (1.7.0+cu101)\n",
            "Requirement already satisfied: typing-extensions in /usr/local/lib/python3.6/dist-packages (from torch) (3.7.4.3)\n",
            "Requirement already satisfied: dataclasses in /usr/local/lib/python3.6/dist-packages (from torch) (0.8)\n",
            "Requirement already satisfied: numpy in /usr/local/lib/python3.6/dist-packages (from torch) (1.19.5)\n",
            "Requirement already satisfied: future in /usr/local/lib/python3.6/dist-packages (from torch) (0.16.0)\n"
          ],
          "name": "stdout"
        }
      ]
    },
    {
      "cell_type": "code",
      "metadata": {
        "id": "sPIhV2FUMykz"
      },
      "source": [
        "import torch"
      ],
      "execution_count": 3,
      "outputs": []
    },
    {
      "cell_type": "code",
      "metadata": {
        "id": "Gdl5xs3sTgKg"
      },
      "source": [
        "w = torch.tensor(3.0)\n",
        "b = torch.tensor(1.0)"
      ],
      "execution_count": 5,
      "outputs": []
    },
    {
      "cell_type": "code",
      "metadata": {
        "id": "6l0ftKcxxtgV"
      },
      "source": [
        "def forward(x): # a simple linear model\n",
        "  y = w*x + b\n",
        "  return y "
      ],
      "execution_count": 6,
      "outputs": []
    },
    {
      "cell_type": "code",
      "metadata": {
        "colab": {
          "base_uri": "https://localhost:8080/"
        },
        "id": "Ylx82Jtkx1RY",
        "outputId": "8465116a-a11a-46fe-8d9b-704dd5bc2f78"
      },
      "source": [
        "x = torch.tensor(2)\n",
        "y = forward(x) # pass a tensor through our linear model, the output should be a tensor with value 7\n",
        "print(y)"
      ],
      "execution_count": 7,
      "outputs": [
        {
          "output_type": "stream",
          "text": [
            "tensor(7.)\n"
          ],
          "name": "stdout"
        }
      ]
    },
    {
      "cell_type": "markdown",
      "metadata": {
        "id": "KNCSyp8tyzFm"
      },
      "source": [
        "Is there a better way for us to build a linear model? Yes! Torch comes preloaded with a Linear class. Let's use it."
      ]
    },
    {
      "cell_type": "code",
      "metadata": {
        "id": "a4XW5rDkyoX8"
      },
      "source": [
        "from torch.nn import Linear"
      ],
      "execution_count": 8,
      "outputs": []
    },
    {
      "cell_type": "code",
      "metadata": {
        "colab": {
          "base_uri": "https://localhost:8080/"
        },
        "id": "iN4Yj5rwzBTL",
        "outputId": "867c3a2c-001f-462c-8090-08dcc2a37bec"
      },
      "source": [
        "torch.manual_seed(1) # sets 1 as the seed for random numbers\n",
        "model = Linear(in_features=1, out_features=1) # our linear model will have one output for one input\n",
        "print(model.bias,model.weight) # print the weight w and bias b set by Linear"
      ],
      "execution_count": 9,
      "outputs": [
        {
          "output_type": "stream",
          "text": [
            "Parameter containing:\n",
            "tensor([-0.4414], requires_grad=True) Parameter containing:\n",
            "tensor([[0.5153]], requires_grad=True)\n"
          ],
          "name": "stdout"
        }
      ]
    },
    {
      "cell_type": "code",
      "metadata": {
        "colab": {
          "base_uri": "https://localhost:8080/"
        },
        "id": "vjPlPxnFzgc-",
        "outputId": "408ef059-7fab-437b-81d5-67826db3635c"
      },
      "source": [
        "x = torch.tensor([[2.0],[3.5],[9.2]])\n",
        "print(model(x)) # output result of plugging the tensor x into the linear model"
      ],
      "execution_count": 12,
      "outputs": [
        {
          "output_type": "stream",
          "text": [
            "tensor([[0.5891],\n",
            "        [1.3620],\n",
            "        [4.2990]], grad_fn=<AddmmBackward>)\n"
          ],
          "name": "stdout"
        }
      ]
    },
    {
      "cell_type": "markdown",
      "metadata": {
        "id": "NDOt4dC40dIl"
      },
      "source": [
        "Let's now take a look at building simple neural networks. We'll start by defining our own linear class."
      ]
    },
    {
      "cell_type": "code",
      "metadata": {
        "id": "pVhG5VFE1Eyd"
      },
      "source": [
        "import torch.nn"
      ],
      "execution_count": 42,
      "outputs": []
    },
    {
      "cell_type": "code",
      "metadata": {
        "id": "xmL3-gJy0iwM"
      },
      "source": [
        "class LR(torch.nn.Module): # inherit from the Module class from torch.nn\n",
        "  def __init__(self, input_size, output_size):\n",
        "    super().__init__() # call constructor from Module\n",
        "    self.linear = torch.nn.Linear(input_size, output_size)\n",
        "  def forward(self, x): # define forward method\n",
        "    pred = self.linear(x)\n",
        "    return pred\n"
      ],
      "execution_count": 25,
      "outputs": []
    },
    {
      "cell_type": "code",
      "metadata": {
        "colab": {
          "base_uri": "https://localhost:8080/"
        },
        "id": "5a6PZPo71o0j",
        "outputId": "7c27e96c-4a39-4567-cdf4-c4a5b5e4e74f"
      },
      "source": [
        "model = LR(1, 1) # one output for every one input\n",
        "print(list(model.parameters()))"
      ],
      "execution_count": 26,
      "outputs": [
        {
          "output_type": "stream",
          "text": [
            "[Parameter containing:\n",
            "tensor([[0.1390]], requires_grad=True), Parameter containing:\n",
            "tensor([-0.1224], requires_grad=True)]\n"
          ],
          "name": "stdout"
        }
      ]
    },
    {
      "cell_type": "code",
      "metadata": {
        "colab": {
          "base_uri": "https://localhost:8080/"
        },
        "id": "EpX8660l2EYD",
        "outputId": "803b608a-e29f-4d32-90ac-268de4123218"
      },
      "source": [
        "x = torch.tensor([1.0])\n",
        "print(model.forward(x)) # run the tensor x through our linear model and print the output"
      ],
      "execution_count": 27,
      "outputs": [
        {
          "output_type": "stream",
          "text": [
            "tensor([0.0166], grad_fn=<AddBackward0>)\n"
          ],
          "name": "stdout"
        }
      ]
    },
    {
      "cell_type": "markdown",
      "metadata": {
        "id": "kIp6Sofr3Bzc"
      },
      "source": [
        "Let's create some data and plot it!"
      ]
    },
    {
      "cell_type": "code",
      "metadata": {
        "id": "iDbPrLSL3HYO"
      },
      "source": [
        "import matplotlib.pyplot as plt\n",
        "import numpy as np"
      ],
      "execution_count": 34,
      "outputs": []
    },
    {
      "cell_type": "code",
      "metadata": {
        "colab": {
          "base_uri": "https://localhost:8080/",
          "height": 296
        },
        "id": "kLLpRH9k3QEJ",
        "outputId": "02d9fa66-bf66-46ca-ad30-373331bb4661"
      },
      "source": [
        "x = torch.randn(100,1)*10 # return a tensor of randomly distributed data with mean 0, variance 10\n",
        "y = x\n",
        "plt.plot(x.numpy(), y.numpy(), 'o') # plot our linear data (note we convert x and y to numpy arrays first)\n",
        "plt.xlabel('x')\n",
        "plt.ylabel('y')"
      ],
      "execution_count": 32,
      "outputs": [
        {
          "output_type": "execute_result",
          "data": {
            "text/plain": [
              "Text(0, 0.5, 'y')"
            ]
          },
          "metadata": {
            "tags": []
          },
          "execution_count": 32
        },
        {
          "output_type": "display_data",
          "data": {
            "image/png": "[encoded data removed]",
            "text/plain": [
              "<Figure size 432x288 with 1 Axes>"
            ]
          },
          "metadata": {
            "tags": [],
            "needs_background": "light"
          }
        }
      ]
    },
    {
      "cell_type": "code",
      "metadata": {
        "colab": {
          "base_uri": "https://localhost:8080/",
          "height": 296
        },
        "id": "NAZQBtYz39RR",
        "outputId": "c6967b5b-da13-47d7-a2b3-f1907d682d47"
      },
      "source": [
        "# Now add some noise to our data\n",
        "y = x + 2*torch.randn(100,1) # add noise to our data\n",
        "plt.plot(x.numpy(),y.numpy(),'o')\n",
        "plt.xlabel('x')\n",
        "plt.ylabel('y')"
      ],
      "execution_count": 38,
      "outputs": [
        {
          "output_type": "execute_result",
          "data": {
            "text/plain": [
              "Text(0, 0.5, 'y')"
            ]
          },
          "metadata": {
            "tags": []
          },
          "execution_count": 38
        },
        {
          "output_type": "display_data",
          "data": {
            "image/png": "[encoded data removed]",
            "text/plain": [
              "<Figure size 432x288 with 1 Axes>"
            ]
          },
          "metadata": {
            "tags": [],
            "needs_background": "light"
          }
        }
      ]
    },
    {
      "cell_type": "markdown",
      "metadata": {
        "id": "DcIDZ9Fq4pGW"
      },
      "source": [
        "Returning to our previous model, let's extract the parameters."
      ]
    },
    {
      "cell_type": "code",
      "metadata": {
        "colab": {
          "base_uri": "https://localhost:8080/"
        },
        "id": "JBCThyeZ4mZP",
        "outputId": "8a16c4ef-1632-4383-f9f4-fc6efbc4e0fd"
      },
      "source": [
        "def get_parameters(model): # take in a parameter of type LR\n",
        "  [w, b] = model.parameters()\n",
        "  return (w[0][0].item(), b[0].item())\n",
        "\n",
        "params = get_parameters(model)\n",
        "print(params)"
      ],
      "execution_count": 33,
      "outputs": [
        {
          "output_type": "stream",
          "text": [
            "(0.1390169858932495, -0.12244415283203125)\n"
          ],
          "name": "stdout"
        }
      ]
    },
    {
      "cell_type": "code",
      "metadata": {
        "id": "2h40WJ1I5blm"
      },
      "source": [
        "# define a function which will help us plot our linear model\n",
        "def plot_fit(title, model):\n",
        "  plt.title = title\n",
        "  w1, b1 = get_parameters(model)\n",
        "  x1 = np.array([-30,30])\n",
        "  y1 = w1*x1 + b1\n",
        "  plt.plot(x1, y1, 'r')"
      ],
      "execution_count": 36,
      "outputs": []
    },
    {
      "cell_type": "code",
      "metadata": {
        "colab": {
          "base_uri": "https://localhost:8080/",
          "height": 265
        },
        "id": "m09OSKWI6LBn",
        "outputId": "9e429d05-0ebe-4cd5-c5c2-00864376100b"
      },
      "source": [
        "# plot our linear model on top of our data\n",
        "plt.scatter(x,y)\n",
        "plot_fit('Initial model', model)\n",
        "plt.show()"
      ],
      "execution_count": 39,
      "outputs": [
        {
          "output_type": "display_data",
          "data": {
            "image/png": "[encoded data removed]",
            "text/plain": [
              "<Figure size 432x288 with 1 Axes>"
            ]
          },
          "metadata": {
            "tags": [],
            "needs_background": "light"
          }
        }
      ]
    },
    {
      "cell_type": "markdown",
      "metadata": {
        "id": "HVPvojmY6nDj"
      },
      "source": [
        "Our model is not good! We need to update our model to better match the data. Our loss function will have the form \n",
        "$ e(w,b) = \\frac{1}{N} \\sum_{i=1}^N (y_i - wx_i + b)^2$. To minimize this and find the optimal $w$ and $b$ values, we will run the gradient descent algorithm on our loss function. Fortunately, PyTorch can do most all of these calculations for us. In particular, it is quite easy to carry out the stochastic gradient descent algorithm through PyTorch."
      ]
    },
    {
      "cell_type": "code",
      "metadata": {
        "id": "ye4rp35E63fW"
      },
      "source": [
        "error = torch.nn.MSELoss() # define the mean square error term\n",
        "optimizer = torch.optim.SGD(model.parameters(), lr = 0.001) # setup the SGD algorithm to optimize our parameter with learning rate 0.001"
      ],
      "execution_count": 44,
      "outputs": []
    },
    {
      "cell_type": "markdown",
      "metadata": {
        "id": "oVsSNdkNBvsl"
      },
      "source": [
        "We'll now \"train\" the model, or just run gradient descent on our loss function a specified number of times to find the best fit."
      ]
    },
    {
      "cell_type": "code",
      "metadata": {
        "colab": {
          "base_uri": "https://localhost:8080/"
        },
        "id": "4AUY6DgYAZnm",
        "outputId": "c8458855-b238-4490-f9d1-1decee9f0cd4"
      },
      "source": [
        "runs = 100 # run the SGD algorithm 100 times\n",
        "losses = []\n",
        "for ii in range(runs):\n",
        "  y_predicted = model.forward(x) # make predictions from data\n",
        "  loss = error(y_predicted, y) # find error for previous prediction\n",
        "  print(\"run: \", ii, \" loss: \", loss.item())\n",
        "  losses.append(loss) # keep track of error values\n",
        "  optimizer.zero_grad() # zero out the gradient of the error term\n",
        "  loss.backward() # calculate gradient of error\n",
        "  optimizer.step() # move in direction of negative gradient"
      ],
      "execution_count": 45,
      "outputs": [
        {
          "output_type": "stream",
          "text": [
            "run:  0  loss:  83.5162124633789\n",
            "run:  1  loss:  52.62095642089844\n",
            "run:  2  loss:  33.63605880737305\n",
            "run:  3  loss:  21.96994400024414\n",
            "run:  4  loss:  14.80114459991455\n",
            "run:  5  loss:  10.395904541015625\n",
            "run:  6  loss:  7.688836574554443\n",
            "run:  7  loss:  6.0252838134765625\n",
            "run:  8  loss:  5.002954483032227\n",
            "run:  9  loss:  4.374655246734619\n",
            "run:  10  loss:  3.9884815216064453\n",
            "run:  11  loss:  3.7510924339294434\n",
            "run:  12  loss:  3.605130672454834\n",
            "run:  13  loss:  3.5153493881225586\n",
            "run:  14  loss:  3.4600918292999268\n",
            "run:  15  loss:  3.4260480403900146\n",
            "run:  16  loss:  3.405040979385376\n",
            "run:  17  loss:  3.39204478263855\n",
            "run:  18  loss:  3.3839714527130127\n",
            "run:  19  loss:  3.3789238929748535\n",
            "run:  20  loss:  3.3757359981536865\n",
            "run:  21  loss:  3.3736910820007324\n",
            "run:  22  loss:  3.3723485469818115\n",
            "run:  23  loss:  3.3714382648468018\n",
            "run:  24  loss:  3.3707947731018066\n",
            "run:  25  loss:  3.3703134059906006\n",
            "run:  26  loss:  3.369933843612671\n",
            "run:  27  loss:  3.3696165084838867\n",
            "run:  28  loss:  3.369338274002075\n",
            "run:  29  loss:  3.369083881378174\n",
            "run:  30  loss:  3.3688440322875977\n",
            "run:  31  loss:  3.3686139583587646\n",
            "run:  32  loss:  3.3683907985687256\n",
            "run:  33  loss:  3.3681716918945312\n",
            "run:  34  loss:  3.367954730987549\n",
            "run:  35  loss:  3.3677401542663574\n",
            "run:  36  loss:  3.367527484893799\n",
            "run:  37  loss:  3.367316246032715\n",
            "run:  38  loss:  3.367105722427368\n",
            "run:  39  loss:  3.366896390914917\n",
            "run:  40  loss:  3.3666882514953613\n",
            "run:  41  loss:  3.366481065750122\n",
            "run:  42  loss:  3.366273880004883\n",
            "run:  43  loss:  3.366068124771118\n",
            "run:  44  loss:  3.365863084793091\n",
            "run:  45  loss:  3.365659236907959\n",
            "run:  46  loss:  3.3654563426971436\n",
            "run:  47  loss:  3.3652536869049072\n",
            "run:  48  loss:  3.3650522232055664\n",
            "run:  49  loss:  3.364851474761963\n",
            "run:  50  loss:  3.3646514415740967\n",
            "run:  51  loss:  3.3644518852233887\n",
            "run:  52  loss:  3.364253520965576\n",
            "run:  53  loss:  3.364055871963501\n",
            "run:  54  loss:  3.363858938217163\n",
            "run:  55  loss:  3.3636627197265625\n",
            "run:  56  loss:  3.3634674549102783\n",
            "run:  57  loss:  3.3632726669311523\n",
            "run:  58  loss:  3.363079309463501\n",
            "run:  59  loss:  3.3628857135772705\n",
            "run:  60  loss:  3.3626937866210938\n",
            "run:  61  loss:  3.362502098083496\n",
            "run:  62  loss:  3.362312078475952\n",
            "run:  63  loss:  3.362121820449829\n",
            "run:  64  loss:  3.3619322776794434\n",
            "run:  65  loss:  3.3617444038391113\n",
            "run:  66  loss:  3.3615562915802\n",
            "run:  67  loss:  3.3613698482513428\n",
            "run:  68  loss:  3.3611834049224854\n",
            "run:  69  loss:  3.3609976768493652\n",
            "run:  70  loss:  3.3608133792877197\n",
            "run:  71  loss:  3.3606295585632324\n",
            "run:  72  loss:  3.3604462146759033\n",
            "run:  73  loss:  3.3602633476257324\n",
            "run:  74  loss:  3.360081672668457\n",
            "run:  75  loss:  3.359900712966919\n",
            "run:  76  loss:  3.359720230102539\n",
            "run:  77  loss:  3.3595409393310547\n",
            "run:  78  loss:  3.3593621253967285\n",
            "run:  79  loss:  3.3591842651367188\n",
            "run:  80  loss:  3.359006404876709\n",
            "run:  81  loss:  3.3588297367095947\n",
            "run:  82  loss:  3.3586537837982178\n",
            "run:  83  loss:  3.35847806930542\n",
            "run:  84  loss:  3.3583037853240967\n",
            "run:  85  loss:  3.3581299781799316\n",
            "run:  86  loss:  3.3579561710357666\n",
            "run:  87  loss:  3.357783794403076\n",
            "run:  88  loss:  3.357611656188965\n",
            "run:  89  loss:  3.357440710067749\n",
            "run:  90  loss:  3.3572704792022705\n",
            "run:  91  loss:  3.357100486755371\n",
            "run:  92  loss:  3.356931447982788\n",
            "run:  93  loss:  3.3567628860473633\n",
            "run:  94  loss:  3.3565948009490967\n",
            "run:  95  loss:  3.3564276695251465\n",
            "run:  96  loss:  3.3562612533569336\n",
            "run:  97  loss:  3.356095314025879\n",
            "run:  98  loss:  3.3559305667877197\n",
            "run:  99  loss:  3.3557655811309814\n"
          ],
          "name": "stdout"
        }
      ]
    },
    {
      "cell_type": "markdown",
      "metadata": {
        "id": "fedHg_4lCWKn"
      },
      "source": [
        "With our model \"trained\", let's plot the results!"
      ]
    },
    {
      "cell_type": "code",
      "metadata": {
        "colab": {
          "base_uri": "https://localhost:8080/",
          "height": 296
        },
        "id": "jbt4TH85CY6j",
        "outputId": "9284fc8c-0a49-4706-9545-526bb167062e"
      },
      "source": [
        "plt.plot(range(runs), losses)\n",
        "plt.xlabel('run')\n",
        "plt.ylabel('error')\n",
        "#plt.title(\"Error\")"
      ],
      "execution_count": 51,
      "outputs": [
        {
          "output_type": "execute_result",
          "data": {
            "text/plain": [
              "Text(0, 0.5, 'error')"
            ]
          },
          "metadata": {
            "tags": []
          },
          "execution_count": 51
        },
        {
          "output_type": "display_data",
          "data": {
            "image/png": "[encoded data removed]",
            "text/plain": [
              "<Figure size 432x288 with 1 Axes>"
            ]
          },
          "metadata": {
            "tags": [],
            "needs_background": "light"
          }
        }
      ]
    },
    {
      "cell_type": "code",
      "metadata": {
        "colab": {
          "base_uri": "https://localhost:8080/",
          "height": 265
        },
        "id": "09Hihj3lDUF1",
        "outputId": "a6c366c7-48db-4cce-d35a-4b757cd850ef"
      },
      "source": [
        "plot_fit(\"Trained model\", model)\n",
        "plt.scatter(x,y)\n",
        "plt.show()"
      ],
      "execution_count": 53,
      "outputs": [
        {
          "output_type": "display_data",
          "data": {
            "image/png": "[encoded data removed]",
            "text/plain": [
              "<Figure size 432x288 with 1 Axes>"
            ]
          },
          "metadata": {
            "tags": [],
            "needs_background": "light"
          }
        }
      ]
    }
  ]
}