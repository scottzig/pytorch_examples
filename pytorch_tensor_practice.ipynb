{
  "nbformat": 4,
  "nbformat_minor": 0,
  "metadata": {
    "colab": {
      "name": "pytorch_tensor_practice.ipynb",
      "provenance": [],
      "authorship_tag": "ABX9TyOitmHEeqhcnPioSyVdtZCY",
      "include_colab_link": true
    },
    "kernelspec": {
      "name": "python3",
      "display_name": "Python 3"
    }
  },
  "cells": [
    {
      "cell_type": "markdown",
      "metadata": {
        "id": "view-in-github",
        "colab_type": "text"
      },
      "source": [
        "<a href=\"https://colab.research.google.com/github/scottzig/pytorch_examples/blob/main/pytorch_tensor_practice.ipynb\" target=\"_parent\"><img src=\"https://colab.research.google.com/assets/colab-badge.svg\" alt=\"Open In Colab\"/></a>"
      ]
    },
    {
      "cell_type": "code",
      "metadata": {
        "colab": {
          "base_uri": "https://localhost:8080/"
        },
        "id": "u3THSGHLUIXa",
        "outputId": "9b36a9c4-a9eb-4115-f364-75baea188202"
      },
      "source": [
        "!pip3 install torch"
      ],
      "execution_count": null,
      "outputs": [
        {
          "output_type": "stream",
          "text": [
            "Requirement already satisfied: torch in /usr/local/lib/python3.6/dist-packages (1.7.0+cu101)\n",
            "Requirement already satisfied: future in /usr/local/lib/python3.6/dist-packages (from torch) (0.16.0)\n",
            "Requirement already satisfied: dataclasses in /usr/local/lib/python3.6/dist-packages (from torch) (0.8)\n",
            "Requirement already satisfied: typing-extensions in /usr/local/lib/python3.6/dist-packages (from torch) (3.7.4.3)\n",
            "Requirement already satisfied: numpy in /usr/local/lib/python3.6/dist-packages (from torch) (1.19.5)\n"
          ],
          "name": "stdout"
        }
      ]
    },
    {
      "cell_type": "code",
      "metadata": {
        "id": "Nub_Pc6iUVLm"
      },
      "source": [
        "import torch\n",
        "import numpy as np"
      ],
      "execution_count": null,
      "outputs": []
    },
    {
      "cell_type": "code",
      "metadata": {
        "colab": {
          "base_uri": "https://localhost:8080/"
        },
        "id": "6bwpKOGQjFVF",
        "outputId": "ab152ed9-87fc-400f-c0cc-7abe3720a22a"
      },
      "source": [
        "x = torch.empty(3,2,1)\n",
        "print(x)"
      ],
      "execution_count": null,
      "outputs": [
        {
          "output_type": "stream",
          "text": [
            "tensor([[[5.9269e-36],\n",
            "         [0.0000e+00]],\n",
            "\n",
            "        [[1.5975e-43],\n",
            "         [1.3873e-43]],\n",
            "\n",
            "        [[1.4574e-43],\n",
            "         [6.4460e-44]]])\n"
          ],
          "name": "stdout"
        }
      ]
    },
    {
      "cell_type": "code",
      "metadata": {
        "colab": {
          "base_uri": "https://localhost:8080/"
        },
        "id": "RmVJe6jQjb9e",
        "outputId": "7b1ce4e9-2536-4161-f8f4-c6c14828bea6"
      },
      "source": [
        "x_2 = torch.rand(3,2,1)\n",
        "print(x_2)"
      ],
      "execution_count": null,
      "outputs": [
        {
          "output_type": "stream",
          "text": [
            "tensor([[[0.7800],\n",
            "         [0.9620]],\n",
            "\n",
            "        [[0.7338],\n",
            "         [0.4549]],\n",
            "\n",
            "        [[0.8788],\n",
            "         [0.0180]]])\n"
          ],
          "name": "stdout"
        }
      ]
    },
    {
      "cell_type": "code",
      "metadata": {
        "colab": {
          "base_uri": "https://localhost:8080/"
        },
        "id": "DAkSIqeajn48",
        "outputId": "27cb649b-6c03-4d40-8e81-5fd51972f0a4"
      },
      "source": [
        "x_3 = torch.zeros(3,2,1)\n",
        "print(x_3)"
      ],
      "execution_count": null,
      "outputs": [
        {
          "output_type": "stream",
          "text": [
            "tensor([[[0.],\n",
            "         [0.]],\n",
            "\n",
            "        [[0.],\n",
            "         [0.]],\n",
            "\n",
            "        [[0.],\n",
            "         [0.]]])\n"
          ],
          "name": "stdout"
        }
      ]
    },
    {
      "cell_type": "code",
      "metadata": {
        "colab": {
          "base_uri": "https://localhost:8080/"
        },
        "id": "O4j1BG1Tj2Dt",
        "outputId": "9bdeae9c-2980-4cf3-b025-bfc7d08363a7"
      },
      "source": [
        "x_4 = torch.ones(3,2,1,dtype = torch.int)\n",
        "print(x_4)\n",
        "print(x_4.dtype)"
      ],
      "execution_count": null,
      "outputs": [
        {
          "output_type": "stream",
          "text": [
            "tensor([[[1],\n",
            "         [1]],\n",
            "\n",
            "        [[1],\n",
            "         [1]],\n",
            "\n",
            "        [[1],\n",
            "         [1]]], dtype=torch.int32)\n",
            "torch.int32\n"
          ],
          "name": "stdout"
        }
      ]
    },
    {
      "cell_type": "code",
      "metadata": {
        "colab": {
          "base_uri": "https://localhost:8080/"
        },
        "id": "U3RvcHjdkQ_W",
        "outputId": "6e15d365-044a-449f-8867-9d691ad1832b"
      },
      "source": [
        "x = torch.rand(2,2)\n",
        "y = torch.rand(2,2)\n",
        "print(x)\n",
        "print(y)\n",
        "z = x + y # or z = torch.add(x,y)\n",
        "print(z)\n",
        "y.add_(x) # in place addition\n",
        "print(y)"
      ],
      "execution_count": null,
      "outputs": [
        {
          "output_type": "stream",
          "text": [
            "tensor([[0.4700, 0.4095],\n",
            "        [0.3127, 0.8193]])\n",
            "tensor([[0.0277, 0.8444],\n",
            "        [0.9034, 0.3829]])\n",
            "tensor([[0.4977, 1.2539],\n",
            "        [1.2161, 1.2022]])\n",
            "tensor([[0.4977, 1.2539],\n",
            "        [1.2161, 1.2022]])\n"
          ],
          "name": "stdout"
        }
      ]
    },
    {
      "cell_type": "code",
      "metadata": {
        "colab": {
          "base_uri": "https://localhost:8080/"
        },
        "id": "Cd0hWfSflHDN",
        "outputId": "1ccac46c-ff87-4887-f773-0431e1355a6d"
      },
      "source": [
        "x = torch.rand(2,2)\n",
        "y = torch.rand(2,2)\n",
        "print(x)\n",
        "print(y)\n",
        "z = x * y # element by element multiplication\n",
        "print(z)"
      ],
      "execution_count": null,
      "outputs": [
        {
          "output_type": "stream",
          "text": [
            "tensor([[0.4463, 0.2713],\n",
            "        [0.1580, 0.5254]])\n",
            "tensor([[0.1254, 0.8842],\n",
            "        [0.5176, 0.6612]])\n",
            "tensor([[0.0560, 0.2399],\n",
            "        [0.0818, 0.3474]])\n"
          ],
          "name": "stdout"
        }
      ]
    },
    {
      "cell_type": "code",
      "metadata": {
        "colab": {
          "base_uri": "https://localhost:8080/"
        },
        "id": "QBXieZuJl-LS",
        "outputId": "b61ac3fe-3f09-4d03-e6c4-8f5cef5b3029"
      },
      "source": [
        "x = torch.rand(5,3)\n",
        "print(x)\n",
        "print(x[:,0]) # slice a tensor as in numpy\n"
      ],
      "execution_count": null,
      "outputs": [
        {
          "output_type": "stream",
          "text": [
            "tensor([[0.4787, 0.0653, 0.8957],\n",
            "        [0.6310, 0.1208, 0.9857],\n",
            "        [0.6250, 0.5148, 0.7952],\n",
            "        [0.3365, 0.4535, 0.6528],\n",
            "        [0.7120, 0.0307, 0.6629]])\n",
            "tensor([0.4787, 0.6310, 0.6250, 0.3365, 0.7120])\n"
          ],
          "name": "stdout"
        }
      ]
    },
    {
      "cell_type": "code",
      "metadata": {
        "colab": {
          "base_uri": "https://localhost:8080/"
        },
        "id": "bM4MEHYmm0Ib",
        "outputId": "fc6d32a0-dc18-47a4-c723-8670ce1b777f"
      },
      "source": [
        "a = torch.ones(5)\n",
        "print(a)\n",
        "b = a.numpy() # convert a torch tensor to a numpy array\n",
        "print(b)\n",
        "print(type(b))\n",
        "\n",
        "a.add_(1) # add one to each element of the tensor a\n",
        "print(a)\n",
        "print(b) # the tensor a and numpy array b point to the same memory location"
      ],
      "execution_count": null,
      "outputs": [
        {
          "output_type": "stream",
          "text": [
            "tensor([1., 1., 1., 1., 1.])\n",
            "[1. 1. 1. 1. 1.]\n",
            "<class 'numpy.ndarray'>\n",
            "tensor([2., 2., 2., 2., 2.])\n",
            "[2. 2. 2. 2. 2.]\n"
          ],
          "name": "stdout"
        }
      ]
    },
    {
      "cell_type": "code",
      "metadata": {
        "colab": {
          "base_uri": "https://localhost:8080/"
        },
        "id": "_y0mUficnd1j",
        "outputId": "da4c6089-6485-4a2b-c65b-d1eba20776a9"
      },
      "source": [
        "a = np.ones(5)\n",
        "print(a)\n",
        "b = torch.from_numpy(a) # convert a numpy array to a torch tensor\n",
        "print(b)\n",
        "\n",
        "a += 1 # add one to each element of numpy array a\n",
        "print(a)\n",
        "print(b) # again, the numpy array a and the torch tensor b point to the same location in memory"
      ],
      "execution_count": null,
      "outputs": [
        {
          "output_type": "stream",
          "text": [
            "[1. 1. 1. 1. 1.]\n",
            "tensor([1., 1., 1., 1., 1.], dtype=torch.float64)\n",
            "[2. 2. 2. 2. 2.]\n",
            "tensor([2., 2., 2., 2., 2.], dtype=torch.float64)\n"
          ],
          "name": "stdout"
        }
      ]
    },
    {
      "cell_type": "code",
      "metadata": {
        "id": "oQRFvh7En8Hb"
      },
      "source": [
        "if torch.cuda.is_available(): # check if we have access to the gpu\n",
        "  device = torch.device(\"cuda\")\n",
        "  x = torch.ones(4, device=device) # create a torch tensor on the gpu\n",
        "  y = torch.ones(4)\n",
        "  y = y.to(device) # these two lines make a torch tensor on the cpu then move it to the gpu\n",
        "  z = x + y # add two tensors on the gpu\n",
        "  # can't convert this to numpy since numpy doesn't have access to the gpu!\n",
        "  z = z.to(\"cpu\") # move z back to the cpu"
      ],
      "execution_count": null,
      "outputs": []
    },
    {
      "cell_type": "code",
      "metadata": {
        "id": "eI10rkkwpDsm"
      },
      "source": [
        "x = torch.ones(5, requires_grad=True) # tells torch to keep track of gradient information\n",
        "print(x)"
      ],
      "execution_count": null,
      "outputs": []
    }
  ]
}